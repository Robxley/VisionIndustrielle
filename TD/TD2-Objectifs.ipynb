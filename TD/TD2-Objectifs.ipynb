{
 "cells": [
  {
   "cell_type": "markdown",
   "metadata": {},
   "source": [
    "### Problème 1 : Il est loin mon sapin ?\n",
    "\n",
    "Mon sapin mesure 18m de hauteur.  \n",
    "Le sapin a une hauteur de 90 pixels dans l'image.  \n",
    "La focale F est de 8mm.  \n",
    "La taille d’un pixel du capteur est de  5,5µm (0.0055mm).  "
   ]
  },
  {
   "cell_type": "code",
   "execution_count": 10,
   "metadata": {},
   "outputs": [],
   "source": [
    "sapin_mm = 18000            # hauteur du sapin en mm\n",
    "image_sapin_px = 90         # hauteur du sapin en pixel\n",
    "focale_mm = 25              # focale de l'objectif en mm\n",
    "dim_pixel_mm = 0.0055       # dimension d'un pixel en mm"
   ]
  },
  {
   "cell_type": "markdown",
   "metadata": {},
   "source": [
    "**Question a** : Calculer la précision (la résolution spatiale) d’un pixel."
   ]
  },
  {
   "cell_type": "code",
   "execution_count": 20,
   "metadata": {},
   "outputs": [
    {
     "name": "stdout",
     "output_type": "stream",
     "text": [
      "La résolution spatiale de l'image (ou précision) est (mm/pixel): 200.0\n",
      "La résolution spatiale de l'image (ou précision) est (m/pixel): 0.2\n"
     ]
    }
   ],
   "source": [
    "precision = sapin_mm / image_sapin_px\n",
    "print(\"La résolution spatiale de l'image (ou précision) est (mm/pixel):\", precision)\n",
    "print(\"La résolution spatiale de l'image (ou précision) est (m/pixel):\", precision /1000)"
   ]
  },
  {
   "cell_type": "markdown",
   "metadata": {},
   "source": [
    "**Question b** : Calculer le grandissement 𝛾."
   ]
  },
  {
   "cell_type": "code",
   "execution_count": 12,
   "metadata": {},
   "outputs": [
    {
     "name": "stdout",
     "output_type": "stream",
     "text": [
      "Le grandissement est de :  2.75e-05\n"
     ]
    }
   ],
   "source": [
    "grandissement = (image_sapin_px * dim_pixel_mm) / sapin_mm  # G = A'B' / AB\n",
    "print(\"Le grandissement est de : \", grandissement)"
   ]
  },
  {
   "cell_type": "markdown",
   "metadata": {},
   "source": [
    "**Question c** : Calculer la distance du sapin par rapport à la caméra."
   ]
  },
  {
   "cell_type": "code",
   "execution_count": 13,
   "metadata": {},
   "outputs": [
    {
     "name": "stdout",
     "output_type": "stream",
     "text": [
      "Le sapin est situé à en (mm):  909115.9090909091\n",
      "Le sapin est situé à en (m):  909.1159090909091\n"
     ]
    }
   ],
   "source": [
    "distance_OA = focale_mm * ( (1/grandissement) + 1)\n",
    "print(\"Le sapin est situé à en (mm): \", distance_OA)\n",
    "print(\"Le sapin est situé à en (m): \", distance_OA / 1000)"
   ]
  },
  {
   "cell_type": "markdown",
   "metadata": {},
   "source": [
    "### Problème 2 : Boîte avec QR CODE\n",
    "\n",
    "Une boite de dimension 40cm x 30cm est scannée sur sa largeur de 30cm. \n",
    "Il faut au moins 750 pixels pour respecter la précision nécessaire à la lecture du QRCode.  \n",
    "La hauteur maximale disponible au dessus du carton est de 120cm.  \n",
    "La documentation du capteur renseigne que la taille d'un pixel est de 3,40µm (0.0034mm).  \n",
    "\n",
    "a. Calculer la taille image (A’B’) de la boîte projetée sur le capteur  \n",
    "b. Calculer le grandissement 𝛾  \n",
    "c. Calculer la focale f’ nécessaire pour disposer la caméra à moins de 60cm.  \n"
   ]
  },
  {
   "cell_type": "code",
   "execution_count": 14,
   "metadata": {},
   "outputs": [],
   "source": [
    "dim_boite_mm = 300\n",
    "pixels = 750\n",
    "hauteur_max_mm = 1200\n",
    "dim_pixel_mm = 0.0034"
   ]
  },
  {
   "cell_type": "markdown",
   "metadata": {},
   "source": [
    "**Question a** : Calculer la taille de l'image de la boîte projetée sur le capteur."
   ]
  },
  {
   "cell_type": "code",
   "execution_count": 15,
   "metadata": {},
   "outputs": [
    {
     "name": "stdout",
     "output_type": "stream",
     "text": [
      "L'image projetée sur le capteur fait (mm): 2.55\n"
     ]
    }
   ],
   "source": [
    "dim_image_mm = pixels * dim_pixel_mm\n",
    "print(\"L'image projetée sur le capteur fait (mm):\", dim_image_mm)"
   ]
  },
  {
   "cell_type": "markdown",
   "metadata": {},
   "source": [
    "**Question b** : Calculer le grandissement 𝛾\n"
   ]
  },
  {
   "cell_type": "code",
   "execution_count": 16,
   "metadata": {},
   "outputs": [
    {
     "name": "stdout",
     "output_type": "stream",
     "text": [
      "Le grandissement vaut : 0.008499999999999999\n"
     ]
    }
   ],
   "source": [
    "grandissement = dim_image_mm / dim_boite_mm\n",
    "print(\"Le grandissement vaut :\", grandissement)"
   ]
  },
  {
   "cell_type": "markdown",
   "metadata": {},
   "source": [
    "**Question c** : Calculer la focale f’ nécessaire pour disposer la caméra à moins de 120cm."
   ]
  },
  {
   "cell_type": "code",
   "execution_count": 17,
   "metadata": {},
   "outputs": [
    {
     "name": "stdout",
     "output_type": "stream",
     "text": [
      "La focale maximale ne doit pas dépasser (mm): 10.11403073872087\n"
     ]
    }
   ],
   "source": [
    "inv_grandissement = 1 / grandissement\n",
    "focale = 1200 / ( inv_grandissement + 1)\n",
    "print(\"La focale maximale ne doit pas dépasser (mm):\", focale)"
   ]
  },
  {
   "cell_type": "markdown",
   "metadata": {},
   "source": [
    "**Question d** : Choisissez la meilleure focale dans la liste suivante : 8, 12, 16, 25, 35, 50 (focales classiquement proposées chez les constructeurs)."
   ]
  },
  {
   "cell_type": "code",
   "execution_count": 18,
   "metadata": {},
   "outputs": [
    {
     "name": "stdout",
     "output_type": "stream",
     "text": [
      "Pour une focale de 8mm, il faut positionner la caméra à 949.18mm de hauteur\n",
      "Pour une focale de 8mm, il faut positionner la caméra à 94.92cm de hauteur\n"
     ]
    }
   ],
   "source": [
    "focale = 8\n",
    "position_camera_mm = (inv_grandissement + 1) * focale\n",
    "print(\"Pour une focale de {}mm, il faut positionner la caméra à {:.2f}mm de hauteur\".format(focale, position_camera_mm))\n",
    "print(\"Pour une focale de {}mm, il faut positionner la caméra à {:.2f}cm de hauteur\".format(focale, position_camera_mm/10))"
   ]
  }
 ],
 "metadata": {
  "kernelspec": {
   "display_name": "Python 3",
   "language": "python",
   "name": "python3"
  },
  "language_info": {
   "codemirror_mode": {
    "name": "ipython",
    "version": 3
   },
   "file_extension": ".py",
   "mimetype": "text/x-python",
   "name": "python",
   "nbconvert_exporter": "python",
   "pygments_lexer": "ipython3",
   "version": "3.12.7"
  }
 },
 "nbformat": 4,
 "nbformat_minor": 2
}

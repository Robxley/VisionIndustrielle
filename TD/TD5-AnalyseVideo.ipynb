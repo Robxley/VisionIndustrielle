{
 "cells": [
  {
   "cell_type": "code",
   "execution_count": 6,
   "metadata": {},
   "outputs": [],
   "source": [
    "#!pip install opencv-python matplotlib ipykernel\n",
    "import cv2\n",
    "import numpy as np"
   ]
  },
  {
   "cell_type": "code",
   "execution_count": 18,
   "metadata": {},
   "outputs": [
    {
     "name": "stdout",
     "output_type": "stream",
     "text": [
      "2913\n",
      "(270, 480, 3)\n"
     ]
    }
   ],
   "source": [
    "def load_video(path, decim = 2, cvtColor = None):\n",
    "    frames = []\n",
    "    cap = cv2.VideoCapture(path)\n",
    "    while cap.isOpened():\n",
    "        ret, frame = cap.read()\n",
    "        if not ret:\n",
    "            break\n",
    "        if cvtColor:\n",
    "            frame = cv2.cvtColor(frame, cv2.COLOR_BGR2GRAY)\n",
    "        it=0\n",
    "        while it < decim:\n",
    "            rows, cols = frame.shape[0], frame.shape[1]\n",
    "            frame = cv2.pyrDown(frame, dstsize=(cols // 2, rows // 2))\n",
    "            it+=1\n",
    "        \n",
    "        frames.append(frame)\n",
    "    return frames\n",
    "\n",
    "def read_video(path, fps = 60, winname =\"video\"):\n",
    "    cap = cv2.VideoCapture(path)\n",
    "    while cap.isOpened():\n",
    "        ret, frame = cap.read()\n",
    "        # if frame is read correctly ret is True\n",
    "        if not ret:\n",
    "            print(\"Can't receive frame (stream end?). Exiting ...\")\n",
    "            break\n",
    "        gray = cv2.cvtColor(frame, cv2.COLOR_BGR2GRAY)\n",
    "        cv2.imshow(winname, gray)\n",
    "        if cv2.waitKey(1000//fps) == ord('q'):\n",
    "            break\n",
    "        if not cv2.getWindowProperty(winname, cv2.WND_PROP_VISIBLE):  # when window is close get out of the loop\n",
    "            break\n",
    "    cap.release()\n",
    "    cv2.destroyAllWindows()\n",
    "    \n",
    "def write_video(video, path, fps = 24):\n",
    "    dsize = (video[0].shape[1],  video[0].shape[0])\n",
    "    fourcc = cv2.VideoWriter_fourcc(*'XVID')\n",
    "    out = cv2.VideoWriter(path, fourcc, 30, dsize)\n",
    "    for frame in video:\n",
    "        out.write(frame)\n",
    "\n",
    "#read_video('C:/Users/ac268552/Desktop/VI/Vision industrielle/video/veh2.mp4')\n",
    "test = load_video('C:/Users/ac268552/Desktop/VI/Vision industrielle/video/veh2.mp4')\n",
    "write_video(test,'C:/temp/output2.avi')    \n",
    "print(len(test))\n",
    "print(test[0].shape)"
   ]
  }
 ],
 "metadata": {
  "kernelspec": {
   "display_name": "base",
   "language": "python",
   "name": "python3"
  },
  "language_info": {
   "codemirror_mode": {
    "name": "ipython",
    "version": 3
   },
   "file_extension": ".py",
   "mimetype": "text/x-python",
   "name": "python",
   "nbconvert_exporter": "python",
   "pygments_lexer": "ipython3",
   "version": "3.10.13"
  }
 },
 "nbformat": 4,
 "nbformat_minor": 2
}

{
 "cells": [
  {
   "cell_type": "markdown",
   "metadata": {},
   "source": [
    "# TD : Vision par ordinateur : traitement d’image"
   ]
  },
  {
   "cell_type": "markdown",
   "metadata": {},
   "source": [
    "## Prérequis\n",
    "\n",
    "Préparation d’un environnement de travail python et installation du paquet OpenCV :  \n",
    "Documentation : https://docs.python.org/fr/3/tutorial/venv.html\n",
    "\n",
    "1 - Lancer l’invite de commande *cmd.exe*  \n",
    "2 - Executer les commandes suivantes pour l'installation d'un environnement python pour le traitement d'image\n",
    "\n",
    "```\n",
    "> python -m venv \"C:\\Users\\USER_NAME\\Desktop\\vision_industrielle\\env_opencv\"     # création de l'environnement\n",
    "> cd \"C:\\Users\\USER_NAME\\Desktop\\vision_industrielle\\env_opencv\"                 # aller dans le dossier d'environnement env_opencv\n",
    "> Scripts\\activate                                                               # activer le dossier d'environnement\n",
    "> pip install opencv-python                                                      # installer la librairie/package opencv\n",
    "> pip install matplotlib                                                         # installer matplotlib\n",
    "```"
   ]
  },
  {
   "cell_type": "code",
   "execution_count": null,
   "metadata": {},
   "outputs": [],
   "source": [
    "import cv2\n",
    "import numpy as np"
   ]
  },
  {
   "cell_type": "markdown",
   "metadata": {},
   "source": [
    "### Lecture d'une image\n",
    "1. Regarder la documentation de la fonction ```cv2.imread```\n",
    "2. Utiliser la fonction ```cv2.imread``` pour lire l'image \"../images/fruits.png\" avec le paramètre de lecture ```cv2.IMREAD_GRAYSCALE```\n",
    "3. Afficher les dimensions de l'image (attribut ```.shape```)\n"
   ]
  },
  {
   "cell_type": "code",
   "execution_count": null,
   "metadata": {},
   "outputs": [],
   "source": []
  },
  {
   "cell_type": "markdown",
   "metadata": {},
   "source": [
    "### Affichage d'une image avec le package matplotlib\n",
    "1. installer le package *matplotlig*: ```> pip matplotlib```\n",
    "2. regarder la documentation de la fonction ```imshow``` avec le paramètre ```cmap=\"gray\"```\n",
    "3. modifier le paramètre ```cmap=\"gray\"``` (voir la documentation)"
   ]
  },
  {
   "cell_type": "code",
   "execution_count": null,
   "metadata": {},
   "outputs": [],
   "source": []
  },
  {
   "cell_type": "markdown",
   "metadata": {},
   "source": [
    "### Affichage de l'image en couleur\n",
    "1. Utiliser la fonction ```cv2.imread``` pour lire l'image \"../images/fruits.png\" avec le paramètre de lecture ```cv2.IMREAD_UNCHANGED```\n",
    "2. Afficher la dimension de l'image (```.shape```)\n",
    "3. Afficher l'image couleur via ```plt.imshow```"
   ]
  },
  {
   "cell_type": "code",
   "execution_count": null,
   "metadata": {},
   "outputs": [],
   "source": []
  },
  {
   "cell_type": "markdown",
   "metadata": {},
   "source": [
    "### Affichage de l'image en couleur avec OpenCV\n",
    "1- Utiliser la fonction ```cv2.imshow```  \n",
    "Rechercher des informations sur l'encodage d'une image couleur sur ordinateur (encodage RGB ou encodage BGR)"
   ]
  },
  {
   "cell_type": "code",
   "execution_count": null,
   "metadata": {},
   "outputs": [],
   "source": []
  },
  {
   "cell_type": "markdown",
   "metadata": {},
   "source": [
    "### Convertir l'image en RGB pour l'afficher avec matplotlib\n",
    "1- Utiliser les fonctions numpy  \n",
    "2- Faire la même chose avec les fonctions opencv"
   ]
  },
  {
   "cell_type": "code",
   "execution_count": null,
   "metadata": {},
   "outputs": [],
   "source": []
  },
  {
   "cell_type": "markdown",
   "metadata": {},
   "source": [
    "### Afficher les images des différents canaux de couleurs (Rouge, Vert, Bleu)\n",
    "1- Afficher les 1 par 1  \n",
    "2- Fusionner les images des canaux dans une seule image de taille (3*largeur x hauteur) "
   ]
  },
  {
   "cell_type": "code",
   "execution_count": null,
   "metadata": {},
   "outputs": [],
   "source": []
  },
  {
   "cell_type": "markdown",
   "metadata": {},
   "source": [
    "### Opérations élémentaires entre images en niveaux de gris\n",
    "1- Sélectionner le canal rouge, le canal vert  \n",
    "2- Tester les opérations d'addition, soustraction, multiplication entre le canal rouge et le canal vert"
   ]
  },
  {
   "cell_type": "code",
   "execution_count": null,
   "metadata": {},
   "outputs": [],
   "source": []
  },
  {
   "cell_type": "markdown",
   "metadata": {},
   "source": [
    "### Opérations élémentaires entre images couleurs\n",
    "1- Charger deux images couleurs\n",
    "2- Tester des opération élémentaires sur des images couleurs"
   ]
  },
  {
   "cell_type": "code",
   "execution_count": null,
   "metadata": {},
   "outputs": [],
   "source": []
  },
  {
   "cell_type": "markdown",
   "metadata": {},
   "source": [
    "### Filtrage \n",
    "1- Sur un des canaux d'une image, appliquer un filtre moyenneur  \n",
    "2- Faire la même chose avec un filtre gaussian  \n",
    "3- Faire la même chose avec un filtre median\n",
    "4- Changer les paramètres des filtres\n",
    "5- Tester ces filtres sur une image bruitée\n"
   ]
  },
  {
   "cell_type": "code",
   "execution_count": null,
   "metadata": {},
   "outputs": [],
   "source": []
  },
  {
   "cell_type": "markdown",
   "metadata": {},
   "source": [
    "### Filtrage pour la détection de contour \n",
    "1- Sur un des canaux d'une image, appliquer un filtre de type gradient  \n",
    "2- Changer les paramètres des filtres  \n",
    "3- Tester ces filtres sur une image bruitée"
   ]
  },
  {
   "cell_type": "code",
   "execution_count": null,
   "metadata": {},
   "outputs": [],
   "source": []
  },
  {
   "cell_type": "markdown",
   "metadata": {},
   "source": [
    "### Filtrage sur image couleur\n",
    "1- Tester le filtrage sur image couleur"
   ]
  },
  {
   "cell_type": "code",
   "execution_count": null,
   "metadata": {},
   "outputs": [],
   "source": []
  },
  {
   "cell_type": "markdown",
   "metadata": {},
   "source": [
    "### Afficher l'histogramme du canal rouge\n",
    "1- Sélectionner l'image du canal rouge  \n",
    "2- Calculer son histogramme  \n",
    "3- Afficher son histogramme  "
   ]
  },
  {
   "cell_type": "code",
   "execution_count": null,
   "metadata": {},
   "outputs": [],
   "source": []
  }
 ],
 "metadata": {
  "kernelspec": {
   "display_name": "env_opencv",
   "language": "python",
   "name": "python3"
  },
  "language_info": {
   "codemirror_mode": {
    "name": "ipython",
    "version": 3
   },
   "file_extension": ".py",
   "mimetype": "text/x-python",
   "name": "python",
   "nbconvert_exporter": "python",
   "pygments_lexer": "ipython3",
   "version": "3.11.4"
  }
 },
 "nbformat": 4,
 "nbformat_minor": 2
}

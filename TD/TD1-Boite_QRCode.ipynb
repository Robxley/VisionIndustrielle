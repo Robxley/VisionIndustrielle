{
 "cells": [
  {
   "cell_type": "markdown",
   "metadata": {},
   "source": [
    "### Prérequis : Utilisation d'un notebook Jupyter (fichiers de type *.ipynb)\n",
    "Les notebooks Jupyter sont des cahiers électroniques permettant dans un même document l'utilisation de cellules de textes, de cellules de codes (souvent en langage de programmation Python), et des cellules pour l’affichage des résultats des cellules de codes.  \n",
    "Un notebook s'organise généralement de la manière suivante :  \n",
    "\n",
    "> *Une cellule de texte*  \n",
    "> La mise en forme du texte est possible en utilisant la syntaxe Markdown : <https://www.markdownguide.org/basic-syntax/>\n",
    "\n",
    ">   *Une cellule de code*\n",
    ">   ```python\n",
    ">   dim1_box_cm = 40        # longueur 40 cm\n",
    ">   print(\"Longueur de la boite (en cm) :\", dim1_box_cm)\n",
    ">   ```\n",
    "\n",
    ">   *Une cellule de résultats des codes exécutés - cette cellule est non éditable et auto générée par l’exécution du code de la cellule précédente*  \n",
    ">   Longueur de la boite (en cm) : 40\n",
    "\n",
    "\n",
    "Pour plus d'information voir : <https://code.visualstudio.com/docs/datascience/jupyter-notebooks>\n"
   ]
  },
  {
   "cell_type": "markdown",
   "metadata": {},
   "source": [
    "# TD 1 : Caméra linéaire pour la détection de QR Codes sur des boîtes.\n",
    "\n",
    "Énoncé du TD : [TD1-Boite_QRCODE.pdf](TD1-Boite_QRCODE.pdf)\n",
    "\n",
    "Résumé :  \n",
    "Un industriel fait appel à vos talents en vision industrielle pour moderniser son entreprise. Il vous invite à venir visiter sa chaîne de production. Il vous présente un poste de travail où des boîtes en carton équipées de QR codes sont scannées manuellement par un opérateur. L'industriel vous demande s'il est possible d'utiliser une caméra linéaire sur le tapis roulant convoyant les cartons en amont du poste pour automatiser le scan des QR Codes. \n",
    "\n",
    "Après discussion avec l'ingénieur de production, voici les informations obtenues pour identifier les éléments nécessaires à l'identification d'une caméra linéaire répondant au besoin  :  \n",
    "(Les informations obtenues sur le système sont les réponses de la question B de [TD1-Boite_QRCODE.pdf](TD1-Boite_QRCODE.pdf))\n",
    "\n",
    "1. Information sur les boîtes à scanner:\n",
    "    - boite de dimensions : 40x30 cm².  \n",
    "    - les boites avancent sur le tapis roulant suivant la longueur de 40cm.  \n",
    "    - la distance entre deux boîtes sur le tapis est de 5cm.  \n",
    ">\n",
    "2. Information sur le QR CODE:  \n",
    "    - le QR CODE V2 a une dimension de 2x2 cm².  \n",
    "    - la grille d'encodage du QR CODE est de 25x25 éléments.  \n",
    ">\n",
    "3. Information de production:  \n",
    "    - la cadence de production est de 35 boites pour une minute.\n",
    "    - La caméra linéaire scanne ligne par ligne la boite dans sa largeur de 30cm.\n",
    "    - la boîte se déplace dans le sens de sa longueur (40cm) sous la caméra. \n"
   ]
  },
  {
   "cell_type": "code",
   "execution_count": 1,
   "metadata": {},
   "outputs": [],
   "source": [
    "#Information sur les boîtes:\n",
    "dim1_box_cm = 40        # longueur 40 cm\n",
    "dim2_box_cm = 30        # largeur 30 cm\n",
    "box_gap_cm = 5          # distance entre les boites 5 cm\n",
    "\n",
    "#QR code info\n",
    "dim_qr_code_cm = 2      # taille du qrcode 4x4 cm²\n",
    "qr_code_grid = 25       # grille 25x25\n",
    "\n",
    "#Cadence\n",
    "cadence_box = 35       # unité\n",
    "cadence_sec = 60       # en second"
   ]
  },
  {
   "cell_type": "markdown",
   "metadata": {},
   "source": [
    "**Question 1** :  Calculer la taille du plus petit élément à observer"
   ]
  },
  {
   "cell_type": "code",
   "execution_count": 2,
   "metadata": {},
   "outputs": [
    {
     "name": "stdout",
     "output_type": "stream",
     "text": [
      "Taille du plus petit objet (cm): 0.08\n"
     ]
    }
   ],
   "source": [
    "min_size_to_detect  = dim_qr_code_cm / qr_code_grid \n",
    "print(\"Taille du plus petit objet (cm):\", min_size_to_detect)"
   ]
  },
  {
   "cell_type": "markdown",
   "metadata": {},
   "source": [
    "**Question 2** : Calculer la vitesse minimale (en cm/s puis km/h) de défilement des boites pour respecter la cadence."
   ]
  },
  {
   "cell_type": "code",
   "execution_count": 3,
   "metadata": {},
   "outputs": [
    {
     "name": "stdout",
     "output_type": "stream",
     "text": [
      "Vitesse de la boite (cm/s) 26.25\n",
      "Facteur de conversion cm/s vers km/h :  0.036\n",
      "Vitesse de la boite (km/h) 0.945\n"
     ]
    }
   ],
   "source": [
    "box_speed = (dim1_box_cm + box_gap_cm) * cadence_box / cadence_sec     \n",
    "print(\"Vitesse de la boite (cm/s)\", box_speed)\n",
    "\n",
    "# Facteur de conversion cm/s en km/h \n",
    "cms_to_kmh_factor = 3600/100000     # 3600sec dans 1h, 100000cm dans 1km (attention de ne pas se tromper, calcul parfois compliqué !😉)                                        \n",
    "print(\"Facteur de conversion cm/s vers km/h : \", cms_to_kmh_factor)\n",
    "print(\"Vitesse de la boite (km/h)\", box_speed * cms_to_kmh_factor)"
   ]
  },
  {
   "cell_type": "markdown",
   "metadata": {},
   "source": [
    "**Question 3** : Quel est le nombre minimal de pixels N que doit contenir le capteur linéaire quand le coefficient C de sécurité est fixé à 2 (pour respecter le théorème de Shannon) ?"
   ]
  },
  {
   "cell_type": "code",
   "execution_count": 10,
   "metadata": {},
   "outputs": [
    {
     "name": "stdout",
     "output_type": "stream",
     "text": [
      "Nombre de pixels pour le capteur (v1):  750\n",
      "Nombre de pixels pour le capteur (v2):  750\n"
     ]
    }
   ],
   "source": [
    "coef_C = 2 # coefficient C de sécurité\n",
    "\n",
    "# Première façon de voir les choses en suivant la formule du cours sur la précision :\n",
    "precision = min_size_to_detect / coef_C     # on calcul la précision souhaitée => la plus petite distance divisée par le coefficient de sécurité.\n",
    "pixels = int(dim2_box_cm / precision)       # nombre de pixels (résolution du capteur) = dimension de l'objet à inspecter diviser par la précision\n",
    "print(\"Nombre de pixels pour le capteur (v1): \", pixels)\n",
    "\n",
    "# Deuxième façon de voir les choses (et donnant le même résultat) :           \n",
    "pixels_v2 = int(dim2_box_cm / min_size_to_detect)  # le nombre de pixels = dimension de l'objet à inspecter diviser par la dimension du plus petit object à observer\n",
    "pixels_v2 = pixels_v2 * coef_C                     # on multiplie ce nombre de pixels par le coefficient de sécurité.\n",
    "print(\"Nombre de pixels pour le capteur (v2): \", pixels_v2)"
   ]
  },
  {
   "cell_type": "markdown",
   "metadata": {},
   "source": [
    "**Question 4** : Combien de lignes (ou images) sont nécessaires pour scanner une boite."
   ]
  },
  {
   "cell_type": "code",
   "execution_count": 11,
   "metadata": {},
   "outputs": [
    {
     "name": "stdout",
     "output_type": "stream",
     "text": [
      "Nombre de lignes nécessaires au scan d'une boite (en tenant compte du facteur de sécurité) : 1000\n"
     ]
    }
   ],
   "source": [
    "# calcul similaire à la question 3 sur la longueur de la boite.\n",
    "line_scan_count = (dim1_box_cm / min_size_to_detect)  # largueur diviser par le plus petit élément\n",
    "line_scan_count = int(line_scan_count * coef_C)  # on multiplie ce nombre par le facteur de sécurité\n",
    "print(\"Nombre de lignes nécessaires au scan d'une boite (en tenant compte du facteur de sécurité) :\", line_scan_count)"
   ]
  },
  {
   "cell_type": "markdown",
   "metadata": {},
   "source": [
    "**Question 5** : Combien de temps faut-il pour scanner une boite complète ?"
   ]
  },
  {
   "cell_type": "code",
   "execution_count": 6,
   "metadata": {},
   "outputs": [
    {
     "name": "stdout",
     "output_type": "stream",
     "text": [
      "Temps pour scanner une boite (sec) : 1.5238095238095237\n"
     ]
    }
   ],
   "source": [
    "# formule:  vitesse = distance / temps -> temps = distance / vitesse\n",
    "time_to_scan_one_box = dim1_box_cm / box_speed\n",
    "print(\"Temps pour scanner une boite (sec) :\", time_to_scan_one_box)"
   ]
  },
  {
   "cell_type": "markdown",
   "metadata": {},
   "source": [
    "**Question 6** : Quelle est la fréquence F d’acquisition des images lignes (ou FPS – Frame per second) ?\n"
   ]
  },
  {
   "cell_type": "code",
   "execution_count": 12,
   "metadata": {},
   "outputs": [
    {
     "name": "stdout",
     "output_type": "stream",
     "text": [
      "Images par seconde : 656.25\n",
      "Images par seconde (valeur arrondie au supérieur) : 657\n"
     ]
    }
   ],
   "source": [
    "from math import ceil\n",
    "fps = line_scan_count / time_to_scan_one_box\n",
    "print(\"Images par seconde :\", fps)   \n",
    "print(\"Images par seconde (valeur arrondie au supérieur) :\", ceil(fps))   # fonction ceil pour arrondir la valeur au supérieur"
   ]
  },
  {
   "cell_type": "markdown",
   "metadata": {},
   "source": [
    "**Question 7** : Sachant que le temps de transfert de l’image d’une ligne vers le système de calcul prend 0.0005 sec, quel est le temps maximal d’intégration possible pour la caméra ?"
   ]
  },
  {
   "cell_type": "code",
   "execution_count": 14,
   "metadata": {},
   "outputs": [
    {
     "name": "stdout",
     "output_type": "stream",
     "text": [
      "Le temps pour scanner une ligne (sec) : 0.0015238095238095236 (ou 1/fps : 0.0015238095238095239 )\n",
      "Le temps d'intégration ne doit pas dépasser (sec):  0.0010238095238095236\n"
     ]
    }
   ],
   "source": [
    "time_to_scan_one_line = time_to_scan_one_box / line_scan_count # ou 1 / fps\n",
    "print(\"Le temps pour scanner une ligne (sec) :\", time_to_scan_one_line, \"(ou 1/fps :\", 1/fps,\")\")\n",
    "image_transfert_time_sec = 0.0005               \n",
    "max_integration_time = time_to_scan_one_line - image_transfert_time_sec\n",
    "print(\"Le temps d'intégration ne doit pas dépasser (sec): \", max_integration_time)"
   ]
  },
  {
   "cell_type": "markdown",
   "metadata": {},
   "source": [
    "**Question 8** : Une fois la boîte scannée complètement, le traitement d’image pour détecter et lire le QR Code prend 0.20 sec.  Vérifier que ce temps de calcul est suffisamment rapide pour suivre la cadence de production."
   ]
  },
  {
   "cell_type": "code",
   "execution_count": 16,
   "metadata": {},
   "outputs": [
    {
     "name": "stdout",
     "output_type": "stream",
     "text": [
      "Temps écoulé entre deux boites : 0.19047619047619047\n",
      "Le temps écoulé entre deux boîtes est trop court pour faire le calcul - 😒❌\n"
     ]
    }
   ],
   "source": [
    " # Le calcul doit être plus rapide que le temps écoulé entre deux boîtes\n",
    "time_between_box = box_gap_cm / box_speed          \n",
    "print(\"Temps écoulé entre deux boites :\", time_between_box)\n",
    "if time_between_box > 0.20:\n",
    "    print(\"Le temps écoulé entre deux boites est plus long que le temps de calcul. Tout est OK ! 😊👍\")\n",
    "else:\n",
    "    print(\"Le temps écoulé entre deux boîtes est trop court pour faire le calcul - 😒❌\")"
   ]
  },
  {
   "cell_type": "markdown",
   "metadata": {},
   "source": [
    "**Question 9** : Proposer des solutions. Réviser les calculs précédents si besoin en fonction des solutions proposées."
   ]
  },
  {
   "cell_type": "markdown",
   "metadata": {},
   "source": [
    "Solutions envisageables:  \n",
    "1. On peut tourner les boîtes de 90° pour gagner du temps en ne scannant dans le temps plus que 30cm au lieu de 40cm.  \n",
    "Il faudra néanmoins un capteur linéaire avec plus de pixel pour l'acquisition d'une ligne de 40cm.\n",
    "Pour vérifier facilement les résultats dans cette configuration, inverser les valeurs des variables *dim1_box_cm* et *dim2_box_cm* dans la première cellule de code.  \n",
    "```dim1_box_cm = 30```        \n",
    "```dim2_box_cm = 40```  \n",
    "Puis, ré-executer l'ensemble des cellules de codes en cliquant sur ```>> Exécuter Tout``` (en haut de votre Notebook).\n",
    "Vous devez obtenir à la question 8:  \n",
    "```Le temps écoulé entre deux boites est plus long que le temps de calcul. Tout est OK ! 😊👍```\n",
    "\n",
    "\n",
    "2. On peut poser le QR Code toujours au même endroit sur la boîte.  \n",
    "Le temps restant pour le calcul est alors le temps écoulé entre 2 QR Code.  \n",
    "Soit le temps pour parcourir la distance suivante :  \n",
    "```l'espace entre 2 boites (5cm) + la longueur d'une boite (40cm) - la taille du QR Code (2cm)```.\n",
    "\n",
    "3. Utiliser une caméra matricielle qui se d'éclanche (à l'aide capteur/trigger) lorsque la caméra est positionnée au milieu de la boîte.\n",
    "Soit le temps pour parcourir la distance suivante :  \n",
    "```l'espace entre 2 boites (5cm) + la longueur d'une boite (40cm)```.\n",
    "\n",
    "Un schéma peut aider à visualiser ces différentes solutions."
   ]
  }
 ],
 "metadata": {
  "kernelspec": {
   "display_name": "torch_env",
   "language": "python",
   "name": "python3"
  },
  "language_info": {
   "codemirror_mode": {
    "name": "ipython",
    "version": 3
   },
   "file_extension": ".py",
   "mimetype": "text/x-python",
   "name": "python",
   "nbconvert_exporter": "python",
   "pygments_lexer": "ipython3",
   "version": "3.11.4"
  },
  "orig_nbformat": 4
 },
 "nbformat": 4,
 "nbformat_minor": 2
}

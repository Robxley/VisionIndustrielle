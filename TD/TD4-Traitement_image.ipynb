{
 "cells": [
  {
   "cell_type": "markdown",
   "metadata": {},
   "source": [
    "# TD : Vision par ordinateur : traitement d’image"
   ]
  },
  {
   "cell_type": "markdown",
   "metadata": {},
   "source": [
    "### Prérequis\n",
    "\n",
    "Préparation d’un environnement de travail python et installation du paquet OpenCV :  \n",
    "Documentation : https://docs.python.org/fr/3/tutorial/venv.html\n",
    "\n",
    "1. Créer un dossier 📂  *VisionIndustrielle* (sur votre bureau par exemple)\n",
    "2. Lancer l’invite de commande *cmd.exe*  \n",
    "3. Executer les commandes suivantes pour l'installation d'un environnement python pour le traitement d'image\n",
    "\n",
    "```\n",
    "> python -m venv \"%UserProfile%\\Desktop\\VisionIndustrielle\\env_opencv\"  # création de l'environnement\n",
    "> cd \"%UserProfile%\\Desktop\\VisionIndustrielle\\env_opencv\"              # aller dans le dossier d'environnement env_opencv\n",
    "> .\\Scripts\\activate                                                    # activer le dossier d'environnement\n",
    "> python -m pip install --upgrade pip                                   # mise à jour de l'installeur de package pip\n",
    "> pip install ipykernel opencv-python matplotlib                        # installer des librairies opencv et matplotlib\n",
    "```"
   ]
  },
  {
   "cell_type": "code",
   "execution_count": 1,
   "metadata": {},
   "outputs": [],
   "source": [
    "#!pip install opencv-python matplotlib ipykernel\n",
    "import cv2\n",
    "import numpy as np"
   ]
  },
  {
   "cell_type": "markdown",
   "metadata": {},
   "source": [
    "### Lecture d'une image en niveau de gris\n",
    "1. Regarder la documentation de la fonction ```cv2.imread```.  Voir documentation la documentation sur opencv.\n",
    "2. Utiliser la fonction ```cv2.imread``` pour lire l'image ```\"../images/fruits.jpg\"``` avec le paramètre de lecture ```cv2.IMREAD_GRAYSCALE```\n",
    "3. Afficher les dimensions de l'image (attribut ```.shape```) et identifier les indices des lignes et colonnes\n"
   ]
  },
  {
   "cell_type": "markdown",
   "metadata": {},
   "source": [
    "### Affichage d'une image avec le package matplotlib\n",
    "1. Regarder la documentation de la fonction ```imshow``` avec le paramètre ```cmap=\"gray\"``` du package ```matplotlib```\n",
    "2. Modifier le paramètre ```cmap=\"gray\"``` (voir la documentation)\n",
    "3. Créer une fonction ```implot``` pour faciliter l'affichage des images futures."
   ]
  },
  {
   "cell_type": "markdown",
   "metadata": {},
   "source": [
    "### Image en couleur\n",
    "1. Utiliser la fonction ```cv2.imread``` pour lire l'image \"../images/fruits.jpg\" avec le paramètre de lecture ```cv2.IMREAD_UNCHANGED```\n",
    "2. Afficher la dimension de l'image (```.shape```), identifier les indices des lignes, colonnes et couleurs.\n",
    "3. Afficher l'image couleur via la fonction ```implot```\n",
    "4. Rechercher des informations sur l'encodage d'une image couleur sur ordinateur (encodage RGB, BGR, LAB, HSV, etc...).\n",
    "5. Rechercher ce qu'est un filtre de Bayer pour les capteurs."
   ]
  },
  {
   "cell_type": "markdown",
   "metadata": {},
   "source": [
    "### Affichage de l'image en couleur avec OpenCV\n",
    "1. Utiliser la fonction opencv ```cv2.imshow``` et ```cv2.waitKey```. Rechercher des exemples sur la documentation en ligne de opencv.\n",
    "2. Créer une fonction ```imshow_cv``` pour faciliter l'affichage des images futures\n"
   ]
  },
  {
   "cell_type": "code",
   "execution_count": 2,
   "metadata": {},
   "outputs": [],
   "source": [
    "def imshow_cv(image,  winname = 'Image OpenCV', swapBR = False):\n",
    "    if swapBR:\n",
    "        image = image[...,[2,1,0]]\n",
    "    cv2.imshow(winname, image)\n",
    "    while(True):        # boucle d'affichage de l'image\n",
    "        k = cv2.waitKey(60)\n",
    "        if not cv2.getWindowProperty(winname, cv2.WND_PROP_VISIBLE):  # when window is close get out of the loop\n",
    "            break\n",
    "        if k == -1:  # if no key was pressed, -1 is returned\n",
    "            continue\n",
    "        else:\n",
    "            break\n",
    "    cv2.destroyAllWindows()"
   ]
  },
  {
   "cell_type": "markdown",
   "metadata": {},
   "source": [
    "### Convertir l'image en RGB pour l'afficher correctement avec matplotlib\n",
    "1. Utiliser les instructions Python en inversant directement les canaux couleurs par manipulation des indices de tableau.  \n",
    "2. ou en utilisant la fonction ```cv2.cvtColor```. Regarder la documentation."
   ]
  },
  {
   "cell_type": "markdown",
   "metadata": {},
   "source": [
    "### Afficher les images des différents canaux de couleurs (Rouge, Vert, Bleu)\n",
    "1. Afficher le canal rouge, le canal vert et le canal bleu. \n",
    "2. Concaténer les images des canaux dans une seule image de dimensions (3\\*largeur x hauteur ou largeur x 3\\*hauteur) (voir ```np.vstack``` ou ```cv2.hconcat```)\n",
    "3. Afficher l'image concaténée.\n",
    "4. Afficher les différents canaux pour les encodages LAB, HSV. Utiliser ```cv2.cvtColor``` pour le passage vers l'encodages LAB, HSV."
   ]
  },
  {
   "cell_type": "markdown",
   "metadata": {},
   "source": [
    "### Opérations élémentaires entre images en niveaux de gris\n",
    "1. Sélectionner le canal rouge, le canal vert et/ou bleu   \n",
    "2. Tester des opérations d'addition, soustraction, multiplication entre les canaux  \n",
    "(en utilisant directement les opérateurs ```numpy + - / *``` ou les fonctions ```opencv``` (```cv2.add```, ```cv::subtract```, ```cv::multiply```, ```cv::divide``` ...))\n",
    "3. Est-ce que les résultats vous semblent cohérents ? Quel est la dynamique/profondeur (depth) de l'image (afficher celle-ci avec l'instruction  ```nom_de_mon_image.dtype```)\n",
    "4. Changer la profondeur des images pour le calcul en float 32 bits. Utiliser la méthode numpy ```mon_image.astype(np.float32)``` pour le passage en float 32bits."
   ]
  },
  {
   "cell_type": "markdown",
   "metadata": {},
   "source": [
    "### Opérations élémentaires entre images couleurs\n",
    "1. Charger deux images couleurs. Créer une fonction permettant de lire une l'image (au format BGR) avec ```cv2.imread``` et le paramètre ```cv2.IMREAD_UNCHANGED```  tout en convertissant automatiquement l'image au format RGB pour les affichages futurs.\n",
    "2. Tester des opérations élémentaires sur des images couleurs\n",
    "(en utilisant directement les opérateurs ```numpy + - / *``` ou les fonctions ```opencv``` (```cv2.add```, ```cv::subtract```, ```cv::multiply```, ```cv::divide```, ```cv::divide```, ```cv.addWeighted```, ...))\n",
    "3. Tester des opérateurs binaires  (les fonctions *```numpy```* : ```np.bitwise_and```, ```np.bitwise_or```, ```np.bitwise_xor```, ```np.bitwise_or``` ou les fonctions *```opencv```* : ```cv2.bitwise_and```, ```cv2.bitwise_or```, ```cv2.bitwise_xor```, ```cv2.bitwise_or```)"
   ]
  },
  {
   "cell_type": "markdown",
   "metadata": {},
   "source": [
    "### Filtrage \n",
    " \n",
    "1. Sur une image de votre choix, appliquer un filtre de type  ```cv2.boxFilter```, ```cv2.GaussianBlur```.  \n",
    "3. Faire la même chose avec un filtre Median  ```cv2.medianBlur```.  "
   ]
  },
  {
   "cell_type": "markdown",
   "metadata": {},
   "source": [
    "### Fonction de génération aléatoire de bruit gaussien :"
   ]
  },
  {
   "cell_type": "code",
   "execution_count": 3,
   "metadata": {},
   "outputs": [],
   "source": [
    "# fonction pour ajouter artificiellement du bruit à une image\n",
    "def add_noise(img, mean = 0, stddev = 36, threshold = None):\n",
    "    noise = np.zeros(img.shape, np.uint8)\n",
    "    cv2.randn(noise, np.asarray([mean,mean,mean]),  np.asarray([stddev,stddev,stddev]))\n",
    "    if threshold:\n",
    "        noise = np.where(noise>threshold, noise, 0)\n",
    "    noisy_img = cv2.add(img, noise)\n",
    "    return noisy_img"
   ]
  },
  {
   "cell_type": "markdown",
   "metadata": {},
   "source": [
    "### Filtrage du bruit.\n",
    "1. Tester ces filtres sur une image bruitée (utiliser la fonction ```add_noise``` donnée précédemment pour ajouter artificiellement du bruit à une image).  \n",
    "2. Tester différents paramètres de bruits et de filtrage (```cv2.boxFilter```, ```cv2.GaussianBlur```, ```cv2.medianBlur```).\n",
    "\n"
   ]
  },
  {
   "cell_type": "markdown",
   "metadata": {},
   "source": [
    "### Filtrage pour la détection de contours \n",
    "1. Tester sur une image couleur un filtre de type gradient (```cv2.Sobel```  suivant la direction X et Y).  \n",
    "2. Changer les paramètres des filtres.  \n",
    "3. Utiliser la fonction ```cv2.magnitude``` ou ```cv2.convertScaleAbs``` et ```cv2.addWeighted``` pour combiner les gradient dans la direction X et Y.\n",
    "4. Utiliser la fonction ```cv2.normalize``` avec le paramètre ```norm_type=cv2.NORM_MINMAX``` pour faciliter l'affichage.\n",
    "5. Tester la fonction ```cv2.Laplacian```."
   ]
  },
  {
   "cell_type": "markdown",
   "metadata": {},
   "source": [
    "### Fonction de seuillage / Segmentation\n",
    "\n",
    "1. Additionner les canaux R,G,B de l'image gradient.\n",
    "1. Effectuer un seuillage d'une image en niveau de gris (ou le canal R, G ou B d'une image) - ```cv2.threshold``` ou ```cv2.adaptiveThreshold```, ```cv2.inRange```\n"
   ]
  },
  {
   "cell_type": "markdown",
   "metadata": {},
   "source": [
    "### Morphologie mathématique \n",
    "\n",
    "1. Sur une image segmentée, tester les fonctions morphologiques (```cv2.erode```, ```cv2.dilate```, ```cv.morphologyEx```)\n",
    "2. Qu'est ce qu'une ouverture, une dilatation ?"
   ]
  },
  {
   "cell_type": "markdown",
   "metadata": {},
   "source": [
    "### Détection de contours : Canny\n",
    "\n",
    "1. Utiliser la fonction avancée de détection de contour ```cv2.Canny```.\n",
    "2. Utiliser la fonction ```cv2.countNonZero``` pour compter le nombre de pixels formant les contours."
   ]
  },
  {
   "cell_type": "markdown",
   "metadata": {},
   "source": [
    "### Manipulation des images\n",
    "1. Tester la fonction ```cv2.resize```.\n",
    "2. Tester la fonction ```cv2.pyrDown```.\n",
    "3. Tester la fonction ```cv2.flip``` avec différents paramètres.\n",
    "4. Sélectionner une région d’intérêt dans une image."
   ]
  },
  {
   "cell_type": "markdown",
   "metadata": {},
   "source": [
    "### Dessin dans une image\n",
    "\n",
    "1. Rechercher comment afficher du texte avec OpenCV  ```cv2.putText```.\n",
    "2. Comment afficher une ligne ```cv2.line```.\n",
    "3. Un rectangle ```cv2.rectangle```.\n",
    "4. Un cercle ```cv2.circle```.\n",
    "5. Une ellipse ```cv2.ellipse```."
   ]
  },
  {
   "cell_type": "markdown",
   "metadata": {},
   "source": [
    "### Afficher l'histogramme du canal rouge\n",
    "1. Sélectionner l'image du canal rouge.  \n",
    "2. Chercher des informations sur ce qu'est un histogramme.\n",
    "3. Calculer son histogramme  ```cv2.calcHist``` ou ```np.histogram```.\n",
    "5. Afficher son histogramme  ```plt.hist```."
   ]
  },
  {
   "cell_type": "markdown",
   "metadata": {},
   "source": [
    "### Aller plus loin\n",
    "\n",
    "Tutorial de traitement d'image :  \n",
    "https://docs.opencv.org/4.8.0/d6/d00/tutorial_py_root.html  \n",
    "https://docs.opencv.org/4.8.0/d2/d96/tutorial_py_table_of_contents_imgproc.html"
   ]
  },
  {
   "cell_type": "markdown",
   "metadata": {},
   "source": [
    "### Application à la détection de défaut : Contrôle d'ébréchure\n",
    "\n",
    "1. Charger l'image ```\"../images/controle-ebrechure.jpg\"``` et l'image ```\"../images/controle-ebrechure_2.jpg\"```.\n",
    "2. Effectuer la différence de ces deux images.\n",
    "3. Effectuer un seuillage sur la différence des deux images.\n",
    "5. Compter le nombre de pixels différents dans l'image seuillée avec la fonction ```cv2.countNonZero```.\n",
    "4. Faite la même chose mais en rajoutant du bruit dans les images avec la fonction ```add_noise```."
   ]
  }
 ],
 "metadata": {
  "kernelspec": {
   "display_name": "Python 3",
   "language": "python",
   "name": "python3"
  },
  "language_info": {
   "codemirror_mode": {
    "name": "ipython",
    "version": 3
   },
   "file_extension": ".py",
   "mimetype": "text/x-python",
   "name": "python",
   "nbconvert_exporter": "python",
   "pygments_lexer": "ipython3",
   "version": "3.12.7"
  }
 },
 "nbformat": 4,
 "nbformat_minor": 2
}

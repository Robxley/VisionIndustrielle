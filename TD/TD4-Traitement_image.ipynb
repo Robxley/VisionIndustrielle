{
 "cells": [
  {
   "cell_type": "markdown",
   "metadata": {},
   "source": [
    "# TD : Vision par ordinateur : traitement d’image"
   ]
  },
  {
   "cell_type": "markdown",
   "metadata": {},
   "source": [
    "## Prérequis\n",
    "\n",
    "Préparation d’un environnement de travail python et installation du paquet OpenCV :  \n",
    "Documentation : https://docs.python.org/fr/3/tutorial/venv.html\n",
    "\n",
    "1. Créer un dossier 📂  *VisionIndustrielle* (sur votre bureau par exemple)\n",
    "2. Lancer l’invite de commande *cmd.exe*  \n",
    "3. Executer les commandes suivantes pour l'installation d'un environnement python pour le traitement d'image\n",
    "\n",
    "```\n",
    "> python -m venv \"C:\\Users\\USER_NAME\\Desktop\\VisionIndustrielle\\env_opencv\"     # création de l'environnement\n",
    "> cd \"C:\\Users\\USER_NAME\\Desktop\\VisionIndustrielle\\env_opencv\"                 # aller dans le dossier d'environnement env_opencv\n",
    "> Scripts\\activate                                                              # activer le dossier d'environnement\n",
    "> pip install opencv-python                                                     # installer la librairie/package opencv\n",
    "> pip install matplotlib                                                        # installer matplotlib\n",
    "```"
   ]
  },
  {
   "cell_type": "code",
   "execution_count": 2,
   "metadata": {},
   "outputs": [],
   "source": [
    "import cv2\n",
    "import numpy as np"
   ]
  },
  {
   "cell_type": "markdown",
   "metadata": {},
   "source": [
    "### Lecture d'une image en niveau de gris\n",
    "1. Regarder la documentation de la fonction ```cv2.imread```\n",
    "2. Utiliser la fonction ```cv2.imread``` pour lire l'image \"../images/fruits.png\" avec le paramètre de lecture ```cv2.IMREAD_GRAYSCALE```\n",
    "3. Afficher les dimensions de l'image (attribut ```.shape```) et identifier les indices des lignes et colonnes\n"
   ]
  },
  {
   "cell_type": "markdown",
   "metadata": {},
   "source": [
    "### Affichage d'une image avec le package matplotlib\n",
    "1. installer le package *matplotlib*: ```cmd.exe > pip matplotlib```\n",
    "2. regarder la documentation de la fonction ```imshow``` avec le paramètre ```cmap=\"gray\"```\n",
    "3. modifier le paramètre ```cmap=\"gray\"``` (voir la documentation)"
   ]
  },
  {
   "cell_type": "markdown",
   "metadata": {},
   "source": [
    "### Image en couleur\n",
    "1. Utiliser la fonction ```cv2.imread``` pour lire l'image \"../images/fruits.png\" avec le paramètre de lecture ```cv2.IMREAD_UNCHANGED```\n",
    "2. Afficher la dimension de l'image (```.shape```), identifier les indices des lignes, colonnes et couleurs.\n",
    "3. Afficher l'image couleur via ```plt.imshow```\n",
    "4. Rechercher des informations sur l'encodage d'une image couleur sur ordinateur (encodage RGB, BGR, LAB, HSV, etc...).\n",
    "5. Rechercher ce qu'est un filtre de Bayer pour les capteurs."
   ]
  },
  {
   "cell_type": "markdown",
   "metadata": {},
   "source": [
    "### Affichage de l'image en couleur avec OpenCV\n",
    "1. Utiliser la fonction opencv ```cv2.imshow``` et ```cv2.waitKey```\n"
   ]
  },
  {
   "cell_type": "markdown",
   "metadata": {},
   "source": [
    "### Convertir l'image en RGB pour l'afficher avec matplotlib\n",
    "1. Utiliser les fonctions numpy en inversant directement les canaux couleurs. Voir doc ```np.swapaxes```  \n",
    "2. Faire la même chose avec les fonctions opencv ```cv2.cvtColor```"
   ]
  },
  {
   "cell_type": "markdown",
   "metadata": {},
   "source": [
    "### Afficher les images des différents canaux de couleurs (Rouge, Vert, Bleu)\n",
    "1. Afficher les 1 par 1  \n",
    "2. Concaténer les images des canaux dans une seule image de dimensions (3*largeur x hauteur) (voir ```np.vstack``` ou ```cv2.hconcat```)\n",
    "3. Afficher l'image concaténée\n",
    "4. Afficher les différents canaux pour les encodages LAB, HSV"
   ]
  },
  {
   "cell_type": "markdown",
   "metadata": {},
   "source": [
    "### Opérations élémentaires entre images en niveaux de gris\n",
    "1. Sélectionner le canal rouge, le canal vert et/ou bleu   \n",
    "2. Tester les opérations d'addition, soustraction, multiplication entre les canaux."
   ]
  },
  {
   "cell_type": "markdown",
   "metadata": {},
   "source": [
    "### Opérations élémentaires entre images couleurs\n",
    "1. Charger deux images couleurs  \n",
    "2. Tester des opérations élémentaires sur des images couleurs"
   ]
  },
  {
   "cell_type": "markdown",
   "metadata": {},
   "source": [
    "### Filtrage \n",
    " \n",
    "1. Sur un des canaux d'une image, appliquer un filtre moyenneur  ```cv2.boxFilter``` ou ```cv2.blur```  \n",
    "2. Faire la même chose avec un filtre Gaussian  ```cv2.GaussianBlur```  \n",
    "3. Faire la même chose avec un filtre Median  ```cv2.medianBlur```  \n",
    "4. Changer les paramètres des ces filtres  \n",
    "5. Tester ces filtres sur une image bruitée  \n"
   ]
  },
  {
   "cell_type": "markdown",
   "metadata": {},
   "source": [
    "### Filtrage pour la détection de contour \n",
    "1. Sélectionner un canal couleur, appliquer un filtre de type gradient (```cv2.Sobel```  suivant la direction X et Y)  \n",
    "2. Changer les paramètres des filtres  \n",
    "3. Tester ces filtres sur une image bruitée  \n",
    "4. Tester sur une image couleur  "
   ]
  },
  {
   "cell_type": "markdown",
   "metadata": {},
   "source": [
    "### Fonction de seuillage\n",
    "\n",
    "1. Effectuer un seuillage d'une image en niveau de gris (ou le canal R, G ou B d'une image) - ```cv2.threshold``` ou ```cv2.adaptiveThreshold```, ```cv2.inRange```\n"
   ]
  },
  {
   "cell_type": "markdown",
   "metadata": {},
   "source": [
    "### Morphologie mathématique \n",
    "\n",
    "1. Sur une image segmentée, tester les fonctions morphologiques (```cv2.erode```, ```cv2.dilate```, ```cv.morphologyEx```)\n",
    "2. Qu'est ce qu'une ouverture, une dilatation ?"
   ]
  },
  {
   "cell_type": "markdown",
   "metadata": {},
   "source": [
    "### Manipulation de la taille des images\n",
    "1. Tester la fonction ```cv2.resize```\n",
    "2. Tester la fonction ```cv2.pyrDown```\n",
    "3. Tester la fonction ```cv2.flip``` avec différents paramètres\n",
    "4. Sélectionner une région d’intérêt dans une image."
   ]
  },
  {
   "cell_type": "markdown",
   "metadata": {},
   "source": [
    "### Afficher l'histogramme du canal rouge\n",
    "1. Sélectionner l'image du canal rouge  \n",
    "2. Chercher des informations sur ce qu'est un histogramme.\n",
    "3. Calculer son histogramme  ```cv2.calcHist``` ou ```np.histogram```\n",
    "5. Afficher son histogramme  ```plt.hist```"
   ]
  },
  {
   "cell_type": "markdown",
   "metadata": {},
   "source": [
    "### Normalisation & dynamique de l'image\n",
    "1. Afficher l'histogramme d'une image\n",
    "2. Chercher des infos sur la fonction ```cv2.normalize``` et normaliser les valeurs de l'image entre [0-255]\n",
    "3. Afficher histogramme de l'image normalisée.\n"
   ]
  },
  {
   "cell_type": "markdown",
   "metadata": {},
   "source": [
    "### Dessin dans une image\n",
    "\n",
    "1. Rechercher comment afficher du texte avec OpenCV\n",
    "2. Comment afficher une ligne\n",
    "3. Un rectangle\n",
    "4. Une ellipse"
   ]
  }
 ],
 "metadata": {
  "kernelspec": {
   "display_name": "env_opencv",
   "language": "python",
   "name": "python3"
  },
  "language_info": {
   "codemirror_mode": {
    "name": "ipython",
    "version": 3
   },
   "file_extension": ".py",
   "mimetype": "text/x-python",
   "name": "python",
   "nbconvert_exporter": "python",
   "pygments_lexer": "ipython3",
   "version": "3.10.13"
  }
 },
 "nbformat": 4,
 "nbformat_minor": 2
}

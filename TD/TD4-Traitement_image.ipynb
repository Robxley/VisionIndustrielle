{
 "cells": [
  {
   "cell_type": "markdown",
   "metadata": {},
   "source": [
    "# TD : Vision par ordinateur : traitement d’image"
   ]
  },
  {
   "cell_type": "markdown",
   "metadata": {},
   "source": [
    "### 1. Prérequis\n",
    "\n",
    "Préparation d’un environnement de travail Python et installation du paquet OpenCV :  \n",
    "Documentation : [Documentation officielle Python](https://docs.python.org/fr/3/tutorial/venv.html)\n",
    "\n",
    "1. Créez un dossier 📂 *VisionIndustrielle* (par exemple sur votre bureau) et ouvrez ce dossier.\n",
    "2. Faites **Shift + clic droit** à l'intérieur du dossier 📂 *VisionIndustrielle*. \n",
    "3. Cliquez sur `Ouvrir la fenêtre PowerShell ici`.\n",
    "4. Exécutez les commandes suivantes pour préparer un environnement Python dédié au traitement d’images :\n",
    "\n",
    "```bash\n",
    "> python --version                                 # Vérifier que la version de Python est 3.11\n",
    "> python -m venv opencv_env                        # Création d'un environnement virtuel nommé \"opencv_env\"\n",
    "> ./opencv_env/Scripts/activate                    # Activation de l'environnement virtuel\n",
    "> python -m pip install --upgrade pip              # Mise à jour de l'installeur de paquets\n",
    "> pip install jupyter opencv-python matplotlib     # Installation des bibliothèques OpenCV, Matplotlib et Jupyter\n",
    "```"
   ]
  },
  {
   "cell_type": "code",
   "execution_count": 1,
   "metadata": {},
   "outputs": [],
   "source": [
    "#!pip install opencv-python matplotlib ipykernel\n",
    "import cv2\n",
    "import numpy as np"
   ]
  },
  {
   "cell_type": "markdown",
   "metadata": {},
   "source": [
    "### 2. Lecture d'une image en niveaux de gris\n",
    "\n",
    "1. Consultez la documentation de la fonction `cv2.imread` dans la documentation d'OpenCV.\n",
    "2. Utilisez la fonction `cv2.imread` pour lire l'image située à `\"../images/fruits.jpg\"` en mode niveaux de gris, en utilisant le paramètre `cv2.IMREAD_GRAYSCALE`.\n",
    "3. Affichez les dimensions de l'image à l'aide de l'attribut `.shape` et identifiez les indices correspondant aux lignes et colonnes.\n"
   ]
  },
  {
   "cell_type": "markdown",
   "metadata": {},
   "source": [
    "### 3. Affichage d'une image avec le package Matplotlib\n",
    "\n",
    "1. Consultez la documentation de la fonction `imshow` du package Matplotlib, en particulier l'utilisation du paramètre `cmap=\"gray\"`.\n",
    "2. Expérimentez en modifiant le paramètre `cmap=\"gray\"` pour observer les effets sur l'affichage (référez-vous à la documentation).\n",
    "3. Créez une fonction nommée `implot` afin de simplifier l'affichage des images dans vos analyses futures.\n"
   ]
  },
  {
   "cell_type": "markdown",
   "metadata": {},
   "source": [
    "### 4. Image en couleur\n",
    "\n",
    "1. Utilisez la fonction `cv2.imread` pour lire l'image située à `\"../images/fruits.jpg\"` avec le paramètre `cv2.IMREAD_UNCHANGED`.\n",
    "2. Affichez les dimensions de l'image à l'aide de l'attribut `.shape` et identifiez les indices correspondant aux lignes, colonnes et canaux de couleur.\n",
    "3. Affichez l'image en couleur en utilisant la fonction `implot`.\n",
    "4. Recherchez des informations sur les différents encodages des images couleur sur ordinateur (par exemple : RGB, BGR, LAB, HSV, etc.).\n",
    "5. Documentez-vous sur ce qu'est un filtre de Bayer et son rôle dans les capteurs d'image.\n"
   ]
  },
  {
   "cell_type": "markdown",
   "metadata": {},
   "source": [
    "### 5. Affichage de l'image en couleur avec OpenCV\n",
    "\n",
    "1. Utilisez les fonctions `cv2.imshow` et `cv2.waitKey` pour afficher une image en couleur. Consultez des exemples dans la documentation en ligne d'OpenCV.\n",
    "2. Créez une fonction nommée `imshow_cv` afin de simplifier l'affichage des images pour les prochaines manipulations.\n",
    "\n"
   ]
  },
  {
   "cell_type": "code",
   "execution_count": 2,
   "metadata": {},
   "outputs": [],
   "source": [
    "def imshow_cv(image,  winname = 'Image OpenCV', swapBR = False):\n",
    "    if swapBR:\n",
    "        image = image[...,[2,1,0]]\n",
    "    cv2.imshow(winname, image)\n",
    "    while(True):        # boucle d'affichage de l'image\n",
    "        k = cv2.waitKey(60)\n",
    "        if not cv2.getWindowProperty(winname, cv2.WND_PROP_VISIBLE):  # when window is close get out of the loop\n",
    "            break\n",
    "        if k == -1:  # if no key was pressed, -1 is returned\n",
    "            continue\n",
    "        else:\n",
    "            break\n",
    "    cv2.destroyAllWindows()"
   ]
  },
  {
   "cell_type": "markdown",
   "metadata": {},
   "source": [
    "### 6. Convertir l'image en RGB pour l'afficher correctement avec Matplotlib\n",
    "\n",
    "1. Convertissez l'image en RGB en inversant directement les canaux de couleur à l'aide d'une manipulation des indices du tableau en Python.  \n",
    "2. Alternativement, utilisez la fonction `cv2.cvtColor` pour effectuer la conversion. Consultez la documentation pour plus de détails.\n"
   ]
  },
  {
   "cell_type": "markdown",
   "metadata": {},
   "source": [
    "### 7. Afficher les images des différents canaux de couleurs (Rouge, Vert, Bleu)\n",
    "\n",
    "1. Affichez les canaux de couleur rouge, vert et bleu séparément.\n",
    "2. Concaténez les images des canaux dans une seule image ayant des dimensions `(3 * largeur x hauteur)` ou `(largeur x 3 * hauteur)`. Vous pouvez utiliser `np.vstack` ou `cv2.hconcat` pour cela.\n",
    "3. Affichez l'image concaténée.\n",
    "4. Affichez également les différents canaux pour les encodages LAB et HSV. Utilisez `cv2.cvtColor` pour effectuer la conversion vers les encodages LAB et HSV.\n"
   ]
  },
  {
   "cell_type": "markdown",
   "metadata": {},
   "source": [
    "### 8. Opérations élémentaires entre images en niveaux de gris\n",
    "\n",
    "1. Sélectionnez le canal rouge, vert et/ou bleu d'une image.\n",
    "2. Testez des opérations élémentaires telles que l'addition, la soustraction, la multiplication entre les canaux, en utilisant soit les opérateurs de NumPy (`+`, `-`, `/`, `*`), soit les fonctions d'OpenCV (`cv2.add`, `cv2.subtract`, `cv2.multiply`, `cv2.divide`, etc.).\n",
    "3. Les résultats obtenus sont-ils cohérents ? Quelle est la dynamique ou la profondeur (depth) de l'image ? Vous pouvez vérifier cela en affichant la propriété `dtype` de l'image avec l'instruction `nom_de_mon_image.dtype`.\n",
    "4. Modifiez la profondeur des images pour effectuer les calculs en utilisant des valeurs flottantes en 32 bits. Pour ce faire, utilisez la méthode NumPy `mon_image.astype(np.float32)`.\n"
   ]
  },
  {
   "cell_type": "markdown",
   "metadata": {},
   "source": [
    "### 9. Opérations élémentaires entre images couleurs\n",
    "\n",
    "1. Chargez deux images couleurs. Créez une fonction permettant de lire une image au format BGR avec `cv2.imread` et le paramètre `cv2.IMREAD_UNCHANGED`, tout en la convertissant automatiquement au format RGB pour simplifier les affichages futurs.\n",
    "2. Testez des opérations élémentaires sur les images couleurs, telles que l'addition, la soustraction, la multiplication ou la division. Utilisez soit les opérateurs de NumPy (`+`, `-`, `/`, `*`), soit les fonctions d'OpenCV (`cv2.add`, `cv2.subtract`, `cv2.multiply`, `cv2.divide`, `cv2.addWeighted`, etc.).\n",
    "3. Testez des opérateurs binaires sur les images, comme ceux proposés par NumPy (`np.bitwise_and`, `np.bitwise_or`, `np.bitwise_xor`) ou OpenCV (`cv2.bitwise_and`, `cv2.bitwise_or`, `cv2.bitwise_xor`).\n"
   ]
  },
  {
   "cell_type": "markdown",
   "metadata": {},
   "source": [
    "### 10. Filtrage \n",
    "\n",
    "1. Choisissez une image de votre choix et appliquez un filtre de type `cv2.boxFilter` ou `cv2.GaussianBlur` pour lisser l'image.\n",
    "2. Répétez l'opération en utilisant un filtre médian avec la fonction `cv2.medianBlur`.\n"
   ]
  },
  {
   "cell_type": "markdown",
   "metadata": {},
   "source": [
    "### 11. Fonction de génération aléatoire de bruit gaussien :"
   ]
  },
  {
   "cell_type": "code",
   "execution_count": 3,
   "metadata": {},
   "outputs": [],
   "source": [
    "# fonction pour ajouter artificiellement du bruit à une image\n",
    "def add_noise(img, mean = 0, stddev = 36, threshold = None):\n",
    "    noise = np.zeros(img.shape, np.uint8)\n",
    "    cv2.randn(noise, np.asarray([mean,mean,mean]),  np.asarray([stddev,stddev,stddev]))\n",
    "    if threshold:\n",
    "        noise = np.where(noise>threshold, noise, 0)\n",
    "    noisy_img = cv2.add(img, noise)\n",
    "    return noisy_img"
   ]
  },
  {
   "cell_type": "markdown",
   "metadata": {},
   "source": [
    "### 12. Filtrage du bruit\n",
    "\n",
    "1. Appliquez les filtres sur une image bruitée en utilisant la fonction `add_noise` (fournie précédemment) pour ajouter artificiellement du bruit à une image.  \n",
    "2. Expérimentez avec différents paramètres pour le bruit et testez plusieurs techniques de filtrage (`cv2.boxFilter`, `cv2.GaussianBlur`, `cv2.medianBlur`).\n"
   ]
  },
  {
   "cell_type": "markdown",
   "metadata": {},
   "source": [
    "### 13. Filtrage pour la détection de contours\n",
    "\n",
    "1. Appliquez un filtre de type gradient (`cv2.Sobel`) sur une image couleur, en analysant les gradients dans les directions X et Y.  \n",
    "2. Modifiez les paramètres du filtre pour observer leurs effets.  \n",
    "3. Combinez les gradients X et Y en utilisant `cv2.magnitude` ou une combinaison de `cv2.convertScaleAbs` et `cv2.addWeighted`.  \n",
    "4. Facilitez l'affichage des résultats en normalisant les valeurs avec `cv2.normalize` et le paramètre `norm_type=cv2.NORM_MINMAX`.  \n",
    "5. Expérimentez la détection des contours avec le filtre `cv2.Laplacian`.\n"
   ]
  },
  {
   "cell_type": "markdown",
   "metadata": {},
   "source": [
    "### 14. Fonction de seuillage / Segmentation\n",
    "\n",
    "1. Additionnez les canaux R, G et B de l'image résultant de l'application du gradient.  \n",
    "2. Appliquez un seuillage sur une image en niveaux de gris (ou sur l'un des canaux R, G ou B d'une image) à l'aide des fonctions suivantes :  \n",
    "   - `cv2.threshold`  \n",
    "   - `cv2.adaptiveThreshold`  \n",
    "   - `cv2.inRange`\n",
    "\n"
   ]
  },
  {
   "cell_type": "markdown",
   "metadata": {},
   "source": [
    "### 15. Morphologie mathématique\n",
    "\n",
    "1. Sur une image segmentée, testez les fonctions morphologiques suivantes :  \n",
    "   - `cv2.erode`  \n",
    "   - `cv2.dilate`  \n",
    "   - `cv2.morphologyEx`  \n",
    "2. Expliquez ce qu'est une ouverture et une dilatation.\n"
   ]
  },
  {
   "cell_type": "markdown",
   "metadata": {},
   "source": [
    "### 16. Détection de contours : Canny\n",
    "\n",
    "1. Utilisez la fonction avancée de détection de contours `cv2.Canny`.  \n",
    "2. Utilisez la fonction `cv2.countNonZero` pour compter le nombre de pixels correspondant aux contours détectés.\n"
   ]
  },
  {
   "cell_type": "markdown",
   "metadata": {},
   "source": [
    "### 17. Manipulation des images  \n",
    "\n",
    "1. Testez la fonction `cv2.resize`.  \n",
    "2. Testez la fonction `cv2.pyrDown`.  \n",
    "3. Testez la fonction `cv2.flip` avec différents paramètres.  \n",
    "4. Sélectionnez une région d’intérêt dans une image.\n"
   ]
  },
  {
   "cell_type": "markdown",
   "metadata": {},
   "source": [
    "### 18. Dessin dans une image  \n",
    "\n",
    "1. Recherchez comment afficher du texte avec OpenCV (`cv2.putText`).  \n",
    "2. Affichez une ligne (`cv2.line`).  \n",
    "3. Dessinez un rectangle (`cv2.rectangle`).  \n",
    "4. Dessinez un cercle (`cv2.circle`).  \n",
    "5. Dessinez une ellipse (`cv2.ellipse`).  \n"
   ]
  },
  {
   "cell_type": "markdown",
   "metadata": {},
   "source": [
    "### 19. Afficher l'histogramme du canal rouge  \n",
    "\n",
    "1. Sélectionnez l'image du canal rouge.  \n",
    "2. Recherchez des informations sur ce qu'est un histogramme.  \n",
    "3. Calculez son histogramme avec `cv2.calcHist` ou `np.histogram`.  \n",
    "4. Affichez son histogramme avec `plt.hist`.  \n"
   ]
  },
  {
   "cell_type": "markdown",
   "metadata": {},
   "source": [
    "### 20. Aller plus loin\n",
    "\n",
    "Tutoriels de traitement d'image :  \n",
    "- [OpenCV Tutorial - Introduction](https://docs.opencv.org/4.8.0/d6/d00/tutorial_py_root.html)  \n",
    "- [OpenCV Tutorial - Image Processing](https://docs.opencv.org/4.8.0/d2/d96/tutorial_py_table_of_contents_imgproc.html)\n"
   ]
  },
  {
   "cell_type": "markdown",
   "metadata": {},
   "source": [
    "### 21. Application à la détection de défaut : Contrôle d'ébréchure\n",
    "\n",
    "1. Charger l'image ```\"../images/controle-ebrechure.jpg\"``` et l'image ```\"../images/controle-ebrechure_2.jpg\"```.\n",
    "2. Effectuer la différence entre ces deux images.\n",
    "3. Appliquer un seuillage sur la différence des deux images.\n",
    "4. Compter le nombre de pixels différents dans l'image seuillée avec la fonction ```cv2.countNonZero```.\n",
    "5. Réaliser la même opération, mais en ajoutant du bruit dans les images à l'aide de la fonction ```add_noise```.\n"
   ]
  }
 ],
 "metadata": {
  "kernelspec": {
   "display_name": "Python 3",
   "language": "python",
   "name": "python3"
  },
  "language_info": {
   "codemirror_mode": {
    "name": "ipython",
    "version": 3
   },
   "file_extension": ".py",
   "mimetype": "text/x-python",
   "name": "python",
   "nbconvert_exporter": "python",
   "pygments_lexer": "ipython3",
   "version": "3.12.7"
  }
 },
 "nbformat": 4,
 "nbformat_minor": 2
}

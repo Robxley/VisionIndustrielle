{
 "cells": [
  {
   "cell_type": "markdown",
   "metadata": {},
   "source": [
    "### TD-3 : Application au contrôle qualité de gourde décorée  \n",
    "\n",
    "Vous devez proposer un système de vision permettant d’inspecter une gourde décorée en rotation à l’aide d’une caméra linéaire. La cadence de production est de 5 gourdes en 3 secondes. La gourde fait 25 cm et a un diamètre maximal de φ = 45mm. Le plus petit élément à détecter est de 0.15mm."
   ]
  },
  {
   "cell_type": "code",
   "execution_count": 1,
   "metadata": {},
   "outputs": [],
   "source": [
    "# variable en mm et en sec\n",
    "cadence_nb = 5              # nombre de gourdes (scannées sur 3 secondes)\n",
    "cadence_sec = 3             # 3 secondes\n",
    "dim_gourde_mm = 250         # hauteur de la gourde (25 cm)\n",
    "diameter_mm = 45            # diamètre de la gourde\n",
    "dim_min_element_mm = 0.15   # dimension du plus petit élément à inspecter sur la gourde"
   ]
  },
  {
   "cell_type": "markdown",
   "metadata": {},
   "source": [
    "**Question 1** : Quel est le périmètre maximal de la gourde"
   ]
  },
  {
   "cell_type": "code",
   "execution_count": 2,
   "metadata": {},
   "outputs": [
    {
     "name": "stdout",
     "output_type": "stream",
     "text": [
      "Périmètre max (mm): 141.3716694115407\n"
     ]
    }
   ],
   "source": [
    "import math\n",
    "perimeter_mm = diameter_mm * math.pi        # le périmètre = 2 * rayon * pi = diametre * pi\n",
    "print(\"Périmètre max (mm):\", perimeter_mm)"
   ]
  },
  {
   "cell_type": "markdown",
   "metadata": {},
   "source": [
    "**Question 2** : Quelle est la vitesse de déplacement d’un élément du motif de la gourde ?"
   ]
  },
  {
   "cell_type": "code",
   "execution_count": 3,
   "metadata": {},
   "outputs": [
    {
     "name": "stdout",
     "output_type": "stream",
     "text": [
      "Le temps de scan pour une gourde est de (sec): 0.6\n",
      "La vitesse de déplacement des éléments de surface est de (mm/s): 235.6194490192345\n",
      "La vitesse de déplacement des éléments de surface est de (km/s): 0.8482300164692442\n"
     ]
    }
   ],
   "source": [
    "# vitesse = distance / temps\n",
    "temps_de_scan =  cadence_sec / cadence_nb                                   # temps de scan d'une bouteille\n",
    "print(\"Le temps de scan pour une gourde est de (sec):\", temps_de_scan)\n",
    "vitesse_mms = perimeter_mm / temps_de_scan\n",
    "print(\"La vitesse de déplacement des éléments de surface est de (mm/s):\", vitesse_mms)\n",
    "coef_mms_en_kmh = 0.0036\n",
    "print(\"La vitesse de déplacement des éléments de surface est de (km/s):\", vitesse_mms * coef_mms_en_kmh)"
   ]
  },
  {
   "cell_type": "markdown",
   "metadata": {},
   "source": [
    "**Question 3** : Nombre de pixels"
   ]
  },
  {
   "cell_type": "code",
   "execution_count": 4,
   "metadata": {},
   "outputs": [
    {
     "name": "stdout",
     "output_type": "stream",
     "text": [
      "Le capteur doit avoir au moins 3334 pixels\n"
     ]
    }
   ],
   "source": [
    "coef_sec = 2\n",
    "nb_pixels = dim_gourde_mm / dim_min_element_mm      # calcul du nombre de pixels nécessaires pour scanner la bouteille en fonction du plus petit élément\n",
    "nb_pixels *= coef_sec                               # on multiplie ce nombre de pixels par le facteur de sécurité\n",
    "print(\"Le capteur doit avoir au moins\", math.ceil(nb_pixels), \"pixels\")"
   ]
  },
  {
   "cell_type": "markdown",
   "metadata": {},
   "source": [
    "**Question 4** : Nombre minimal de lignes pour le scan"
   ]
  },
  {
   "cell_type": "code",
   "execution_count": 5,
   "metadata": {},
   "outputs": [
    {
     "name": "stdout",
     "output_type": "stream",
     "text": [
      "Nombre de lignes : 1885\n"
     ]
    }
   ],
   "source": [
    "nb_de_lignes = perimeter_mm / dim_min_element_mm    # calcul du nombre de lignes nécessaires pour scanner la bouteille en fonction du plus petit élément\n",
    "nb_de_lignes *= coef_sec                            # on multiplie ce nombre de pixels par le facteur de sécurité\n",
    "print(\"Nombre de lignes :\", math.ceil(nb_de_lignes))"
   ]
  },
  {
   "cell_type": "markdown",
   "metadata": {},
   "source": [
    "**Question 5** : Calculer la fréquence F minimale d’acquisition pour la caméra (ou nombre d'images par second)."
   ]
  },
  {
   "cell_type": "code",
   "execution_count": 6,
   "metadata": {},
   "outputs": [
    {
     "name": "stdout",
     "output_type": "stream",
     "text": [
      "Le temps pour scanner une ligne doit être de (en sec): 0.00031830988618379065\n",
      "Le nombre d'image par seconde (ou fréquence) nécessaire pour maintenir la cadence est de : 3142\n"
     ]
    }
   ],
   "source": [
    "temps_pour_1_ligne =  temps_de_scan / nb_de_lignes\n",
    "print(\"Le temps pour scanner une ligne doit être de (en sec):\", temps_pour_1_ligne)\n",
    "fps = math.ceil(1/temps_pour_1_ligne)       # frame per second : calcul du nombre d'images qu'il est possible de prendre en 1 sec.\n",
    "print(\"Le nombre d'image par seconde (ou fréquence) nécessaire pour maintenir la cadence est de :\", fps)"
   ]
  },
  {
   "cell_type": "markdown",
   "metadata": {},
   "source": [
    "**Question 6** : Temps d'exposition max ?"
   ]
  },
  {
   "cell_type": "code",
   "execution_count": 7,
   "metadata": {},
   "outputs": [
    {
     "name": "stdout",
     "output_type": "stream",
     "text": [
      "Temps d'expo max 0.00016830988618379066\n"
     ]
    }
   ],
   "source": [
    "temps_de_transfert = 15e-5\n",
    "temps_expo_max = temps_pour_1_ligne - temps_de_transfert\n",
    "print(\"Temps d'expo max\",  temps_expo_max)"
   ]
  },
  {
   "cell_type": "markdown",
   "metadata": {},
   "source": [
    "**Question 7** : Trouver une caméra répondant au besoin. (Quelques noms de distributeurs : Basler, Thorlabs, ids-imaging, Keyence, etc.)"
   ]
  },
  {
   "cell_type": "code",
   "execution_count": 13,
   "metadata": {},
   "outputs": [],
   "source": [
    "# Pour rappel le capteur doit avoir au moins 3334 pixels (réponse question 3)\n",
    "# la caméra https://www.baslerweb.fr/fr/cameras-lineaires/24-529-basler-racer.html en 4k répond au besoin."
   ]
  },
  {
   "cell_type": "markdown",
   "metadata": {},
   "source": [
    "**Question 8** : Calculer le grandissement pour le capteur sélectionné"
   ]
  },
  {
   "cell_type": "code",
   "execution_count": 14,
   "metadata": {},
   "outputs": [
    {
     "name": "stdout",
     "output_type": "stream",
     "text": [
      "Taille des pixels (mm):  0.007\n",
      "Le grandissement pour 4000 pixels est de : 0.112\n"
     ]
    }
   ],
   "source": [
    "# caméra https://www.baslerweb.fr/fr/cameras-lineaires/24-529-basler-racer.html en 4k\n",
    "# pour rappel le nombre minimal de pixels calculé était de 3334 pixels, mais rien ne nous empèche de prendre plus si le capteur le permet.\n",
    "\n",
    "dim_pixel_mm =  7 / 1000    # pour la caméra en version 4k la taille des pixels 7µm -> en millimètre 7 / 1000\n",
    "print(\"Taille des pixels (mm): \", dim_pixel_mm)\n",
    "\n",
    "capteur_pixels = 4000   # en 4k le capteur à 4096 pixels. On peut prend 4000 pour se laisser une marge d'erreur (en cas de vibrations, positionnement de la caméra etc...).\n",
    "grandissement =  (dim_pixel_mm*capteur_pixels) / dim_gourde_mm\n",
    "print(\"Le grandissement pour {} pixels est de : {}\".format(capteur_pixels, grandissement))"
   ]
  },
  {
   "cell_type": "markdown",
   "metadata": {},
   "source": [
    "**Question 9** : Calculer la distance de travail de la caméra pour les focales 6mm, 8mm et 12mm\n",
    "\n"
   ]
  },
  {
   "cell_type": "code",
   "execution_count": 16,
   "metadata": {},
   "outputs": [
    {
     "name": "stdout",
     "output_type": "stream",
     "text": [
      "Pour la focale 6, la distance de travail est de (mm) : 59.57142857142857\n",
      "Pour la focale 8, la distance de travail est de (mm) : 79.42857142857143\n",
      "Pour la focale 12, la distance de travail est de (mm) : 119.14285714285714\n"
     ]
    }
   ],
   "source": [
    "#OA = f * (1/grandissement + 1)\n",
    "def distance_de_travail(focale, grandissement):\n",
    "    return focale * (1/grandissement + 1)\n",
    "\n",
    "def print_distance_de_travail(focale, grandissement):\n",
    "    dist = distance_de_travail(focale, grandissement)\n",
    "    print(\"Pour la focale {}, la distance de travail est de (mm) : {}\".format(focale, dist))\n",
    "\n",
    "for focale in [6, 8, 12]:\n",
    "    print_distance_de_travail(focale, grandissement)"
   ]
  },
  {
   "cell_type": "markdown",
   "metadata": {},
   "source": [
    "**Question 10** : Vous faite un premier test avec un temps d’exposition de valeur Ti = 3.10-4. La valeur maximale de l’image est alors de 45. En supposant que la réponse de la caméra est linéaire de combien vous devait augmenter le temps d’exposition pour exploiter la dynamique complète du capteur 8bits."
   ]
  },
  {
   "cell_type": "code",
   "execution_count": 17,
   "metadata": {},
   "outputs": [
    {
     "name": "stdout",
     "output_type": "stream",
     "text": [
      "Pour exploiter complètement la dynamique le temps d'exposition doit être de :  0.00085\n",
      "Temps d'exposition max : 0.00016830988618379066\n"
     ]
    }
   ],
   "source": [
    "ti = 1.5e-4    \n",
    "ti_valeur = 45\n",
    "max_8bit = 255\n",
    "\n",
    "ti_max_dynamique = ti * max_8bit / ti_valeur\n",
    "print(\"Pour exploiter complètement la dynamique le temps d'exposition doit être de : \", ti_max_dynamique)\n",
    "print(\"Temps d'exposition max :\", temps_expo_max)\n"
   ]
  },
  {
   "cell_type": "markdown",
   "metadata": {},
   "source": [
    "**Question 11** : Est-ce  qu’il  est  possible  d’exploiter  complétement  la  dynamique  du  capteur  tout  en \n",
    "respectant les cadences de production ? Si non, proposer une solution."
   ]
  },
  {
   "cell_type": "code",
   "execution_count": 18,
   "metadata": {},
   "outputs": [
    {
     "name": "stdout",
     "output_type": "stream",
     "text": [
      "Le temps d'exposition pour exploiter la dynamique du capteur ne respecte pas les conditions de cadence : 😭\n",
      "L'utilisation d'un gain > 1 peut permettre d'atteindre\n"
     ]
    }
   ],
   "source": [
    "if ti_max_dynamique > temps_expo_max:\n",
    "    print(\"Le temps d'exposition pour exploiter la dynamique du capteur ne respecte pas les conditions de cadence : 😭\")\n",
    "    print(\"L'utilisation d'un gain > 1 peut permettre d'atteindre\")\n",
    "else:\n",
    "    print(\"Ok cadence respectée : 😁\")"
   ]
  }
 ],
 "metadata": {
  "kernelspec": {
   "display_name": "base",
   "language": "python",
   "name": "python3"
  },
  "language_info": {
   "codemirror_mode": {
    "name": "ipython",
    "version": 3
   },
   "file_extension": ".py",
   "mimetype": "text/x-python",
   "name": "python",
   "nbconvert_exporter": "python",
   "pygments_lexer": "ipython3",
   "version": "3.10.13"
  }
 },
 "nbformat": 4,
 "nbformat_minor": 2
}

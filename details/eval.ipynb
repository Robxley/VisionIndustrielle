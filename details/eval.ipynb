{
 "cells": [
  {
   "cell_type": "markdown",
   "metadata": {},
   "source": [
    "**Question 1**"
   ]
  },
  {
   "cell_type": "code",
   "execution_count": 11,
   "metadata": {},
   "outputs": [
    {
     "name": "stdout",
     "output_type": "stream",
     "text": [
      "tapis_ms: 3.04\n",
      "tapis_cms: 304.0\n",
      "tapis_mms: 3040.0\n",
      "tapis_km_h: 10.944\n"
     ]
    }
   ],
   "source": [
    "tapis_ms = 1.52*2                 #\n",
    "tapis_cms = tapis_ms * 100      #\n",
    "tapis_mms = tapis_cms * 10      #\n",
    "tapis_km_h = tapis_ms * 3.6     #\n",
    "\n",
    "detail_mm = 0.2\n",
    "carreau_mm = 80\n",
    "espace_mm = 20\n",
    "\n",
    "print(\"tapis_ms:\", tapis_ms)\n",
    "print(\"tapis_cms:\", tapis_cms)\n",
    "print(\"tapis_mms:\", tapis_mms)\n",
    "print(\"tapis_km_h:\", tapis_km_h)"
   ]
  },
  {
   "cell_type": "markdown",
   "metadata": {},
   "source": [
    "**Question 2 pixels rangee**"
   ]
  },
  {
   "cell_type": "code",
   "execution_count": 12,
   "metadata": {},
   "outputs": [
    {
     "name": "stdout",
     "output_type": "stream",
     "text": [
      "rangee_carreau_mm:  240\n",
      "rangee_pixels:  2400.0\n"
     ]
    }
   ],
   "source": [
    "# Nombre de pixels pour 3 carreaux\n",
    "rangee_carreau_mm = 3*carreau_mm\n",
    "print(\"rangee_carreau_mm: \", rangee_carreau_mm)\n",
    "rangee_pixels = 2 * (rangee_carreau_mm / detail_mm)\n",
    "print(\"rangee_pixels: \", rangee_pixels)"
   ]
  },
  {
   "cell_type": "markdown",
   "metadata": {},
   "source": [
    "**Question 3 Image lignes** "
   ]
  },
  {
   "cell_type": "code",
   "execution_count": 13,
   "metadata": {},
   "outputs": [
    {
     "name": "stdout",
     "output_type": "stream",
     "text": [
      "rangee_pixels:  800.0\n"
     ]
    }
   ],
   "source": [
    "rangee_lignes = 2 * carreau_mm / detail_mm\n",
    "print(\"rangee_pixels: \", rangee_lignes)"
   ]
  },
  {
   "cell_type": "markdown",
   "metadata": {},
   "source": [
    "**Question 4 Temps de scan d'une rangée**"
   ]
  },
  {
   "cell_type": "code",
   "execution_count": 14,
   "metadata": {},
   "outputs": [
    {
     "name": "stdout",
     "output_type": "stream",
     "text": [
      "scan_carreau_s: 0.02631578947368421\n"
     ]
    }
   ],
   "source": [
    "# v = d / t  -> t = d /v\n",
    "scan_carreau_s = carreau_mm / tapis_mms\n",
    "print(\"scan_carreau_s:\", scan_carreau_s)"
   ]
  },
  {
   "cell_type": "markdown",
   "metadata": {},
   "source": [
    "**Question 5 FPS** "
   ]
  },
  {
   "cell_type": "code",
   "execution_count": 15,
   "metadata": {},
   "outputs": [
    {
     "name": "stdout",
     "output_type": "stream",
     "text": [
      "FPS: 30400.0\n"
     ]
    }
   ],
   "source": [
    "FPS = rangee_lignes / scan_carreau_s\n",
    "print(\"FPS:\", FPS)"
   ]
  },
  {
   "cell_type": "markdown",
   "metadata": {},
   "source": [
    "Question 6 : Focale\n"
   ]
  },
  {
   "cell_type": "code",
   "execution_count": 16,
   "metadata": {},
   "outputs": [
    {
     "name": "stdout",
     "output_type": "stream",
     "text": [
      "G: 0.07400000000000001\n",
      "distance_oa_mm: 174.16216216216213\n"
     ]
    }
   ],
   "source": [
    "def distance_de_travail(focale, grandissement):\n",
    "    return focale * (1/grandissement + 1)\n",
    "focale = 12\n",
    "pixel_size_mm = 7.4 / 1000\n",
    "grandissement = pixel_size_mm * rangee_pixels / rangee_carreau_mm\n",
    "print(\"G:\", grandissement)\n",
    "distance_oa = distance_de_travail(focale, grandissement)\n",
    "print(\"distance_oa_mm:\", distance_oa)"
   ]
  },
  {
   "cell_type": "markdown",
   "metadata": {},
   "source": [
    "**Question 7 Resolution**"
   ]
  },
  {
   "cell_type": "code",
   "execution_count": 17,
   "metadata": {},
   "outputs": [
    {
     "name": "stdout",
     "output_type": "stream",
     "text": [
      "longueur_pixels: 3800.0\n",
      "rangee_pixels: 2400.0\n"
     ]
    }
   ],
   "source": [
    "longueur_mm = 4*carreau_mm + 3*espace_mm\n",
    "longueur_pixels = (longueur_mm / detail_mm) * 2\n",
    "print(\"longueur_pixels:\",longueur_pixels)\n",
    "print(\"rangee_pixels:\", rangee_pixels)"
   ]
  },
  {
   "cell_type": "code",
   "execution_count": 18,
   "metadata": {},
   "outputs": [
    {
     "name": "stdout",
     "output_type": "stream",
     "text": [
      "image_time: 0.125\n",
      "fps: 8.0\n"
     ]
    }
   ],
   "source": [
    "#v = d/t  => t = d / v\n",
    "image_time_s = longueur_mm / tapis_mms\n",
    "print(\"image_time:\", image_time_s)\n",
    "print(\"fps:\",  1.0/image_time_s)"
   ]
  },
  {
   "cell_type": "markdown",
   "metadata": {},
   "source": [
    "**Question 8** Temps entre deux images"
   ]
  },
  {
   "cell_type": "code",
   "execution_count": 19,
   "metadata": {},
   "outputs": [
    {
     "name": "stdout",
     "output_type": "stream",
     "text": [
      "ti_time: 0.13157894736842105\n"
     ]
    }
   ],
   "source": [
    "dist_entre_2 = longueur_mm + espace_mm\n",
    "ti_time = dist_entre_2 / tapis_mms\n",
    "print(\"ti_time:\", ti_time)\n"
   ]
  },
  {
   "cell_type": "markdown",
   "metadata": {},
   "source": [
    "**question 9**"
   ]
  },
  {
   "cell_type": "code",
   "execution_count": 20,
   "metadata": {},
   "outputs": [
    {
     "name": "stdout",
     "output_type": "stream",
     "text": [
      "grandissement: 0.04499999999999999\n",
      "dist for 8 : 185.7777777777778\n",
      "dist for 10 : 232.22222222222226\n",
      "dist for 12 : 278.6666666666667\n"
     ]
    }
   ],
   "source": [
    "grandissement = (4.5/1000) * longueur_pixels / longueur_mm\n",
    "print(\"grandissement:\", grandissement)\n",
    "for focale in [8, 10, 12]:\n",
    "    dist = distance_de_travail(focale, grandissement)\n",
    "    print(\"dist for\", focale, \":\", dist)"
   ]
  },
  {
   "cell_type": "code",
   "execution_count": null,
   "metadata": {},
   "outputs": [],
   "source": [
    "def compute_focale(oa, grandissement):\n",
    "    oa/(1/grandissement + 1)"
   ]
  }
 ],
 "metadata": {
  "kernelspec": {
   "display_name": "base",
   "language": "python",
   "name": "python3"
  },
  "language_info": {
   "codemirror_mode": {
    "name": "ipython",
    "version": 3
   },
   "file_extension": ".py",
   "mimetype": "text/x-python",
   "name": "python",
   "nbconvert_exporter": "python",
   "pygments_lexer": "ipython3",
   "version": "3.10.13"
  }
 },
 "nbformat": 4,
 "nbformat_minor": 2
}

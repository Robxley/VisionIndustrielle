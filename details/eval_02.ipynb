{
 "cells": [
  {
   "cell_type": "markdown",
   "metadata": {},
   "source": [
    "**Question 1**"
   ]
  },
  {
   "cell_type": "code",
   "execution_count": 34,
   "metadata": {},
   "outputs": [
    {
     "name": "stdout",
     "output_type": "stream",
     "text": [
      "tapis_ms: 3.8\n",
      "tapis_cms: 380.0\n",
      "tapis_mms: 3800.0\n",
      "tapis_km_h: 13.68\n"
     ]
    }
   ],
   "source": [
    "tapis_ms = 3.8                 #\n",
    "tapis_cms = tapis_ms * 100      #\n",
    "tapis_mms = tapis_cms * 10      #\n",
    "tapis_km_h = tapis_ms * 3.6     #\n",
    "\n",
    "detail_mm = 0.2\n",
    "carreau_mm = 90\n",
    "espace_mm = 10\n",
    "\n",
    "print(\"tapis_ms:\", tapis_ms)\n",
    "print(\"tapis_cms:\", tapis_cms)\n",
    "print(\"tapis_mms:\", tapis_mms)\n",
    "print(\"tapis_km_h:\", tapis_km_h)"
   ]
  },
  {
   "cell_type": "markdown",
   "metadata": {},
   "source": [
    "**Question 2 pixels rangee**"
   ]
  },
  {
   "cell_type": "code",
   "execution_count": 35,
   "metadata": {},
   "outputs": [
    {
     "name": "stdout",
     "output_type": "stream",
     "text": [
      "rangee_carreau_mm:  270\n",
      "rangee_pixels:  2700.0\n"
     ]
    }
   ],
   "source": [
    "# Nombre de pixels pour 3 carreaux\n",
    "rangee_carreau_mm = 3*carreau_mm\n",
    "print(\"rangee_carreau_mm: \", rangee_carreau_mm)\n",
    "rangee_pixels = 2 * (rangee_carreau_mm / detail_mm)\n",
    "print(\"rangee_pixels: \", rangee_pixels)"
   ]
  },
  {
   "cell_type": "markdown",
   "metadata": {},
   "source": [
    "**Question 3 Image lignes** "
   ]
  },
  {
   "cell_type": "code",
   "execution_count": 36,
   "metadata": {},
   "outputs": [
    {
     "name": "stdout",
     "output_type": "stream",
     "text": [
      "rangee_pixels:  900.0\n"
     ]
    }
   ],
   "source": [
    "rangee_lignes = 2 * carreau_mm / detail_mm\n",
    "print(\"rangee_pixels: \", rangee_lignes)"
   ]
  },
  {
   "cell_type": "markdown",
   "metadata": {},
   "source": [
    "**Question 4 Temps de scan d'une rangée**"
   ]
  },
  {
   "cell_type": "code",
   "execution_count": 37,
   "metadata": {},
   "outputs": [
    {
     "name": "stdout",
     "output_type": "stream",
     "text": [
      "scan_carreau_s: 0.02368421052631579\n"
     ]
    }
   ],
   "source": [
    "# v = d / t  -> t = d /v\n",
    "scan_carreau_s = carreau_mm / tapis_mms\n",
    "print(\"scan_carreau_s:\", scan_carreau_s)"
   ]
  },
  {
   "cell_type": "markdown",
   "metadata": {},
   "source": [
    "**Question 5 FPS** "
   ]
  },
  {
   "cell_type": "code",
   "execution_count": 38,
   "metadata": {},
   "outputs": [
    {
     "name": "stdout",
     "output_type": "stream",
     "text": [
      "FPS: 38000.0\n"
     ]
    }
   ],
   "source": [
    "FPS = rangee_lignes / scan_carreau_s\n",
    "print(\"FPS:\", FPS)"
   ]
  },
  {
   "cell_type": "markdown",
   "metadata": {},
   "source": [
    "Question 6 : Focale\n"
   ]
  },
  {
   "cell_type": "code",
   "execution_count": 45,
   "metadata": {},
   "outputs": [
    {
     "name": "stdout",
     "output_type": "stream",
     "text": [
      "G: 0.074\n",
      "distance_oa_mm: 174.16216216216216\n"
     ]
    }
   ],
   "source": [
    "def distance_de_travail(focale, grandissement):\n",
    "    return focale * (1/grandissement + 1)\n",
    "focale = 12\n",
    "pixel_size_mm = 7.4 / 1000\n",
    "grandissement = pixel_size_mm * rangee_pixels / rangee_carreau_mm\n",
    "print(\"G:\", grandissement)\n",
    "distance_oa = distance_de_travail(focale, grandissement)\n",
    "print(\"distance_oa_mm:\", distance_oa)"
   ]
  },
  {
   "cell_type": "markdown",
   "metadata": {},
   "source": [
    "**Question 7 Resolution**"
   ]
  },
  {
   "cell_type": "code",
   "execution_count": 40,
   "metadata": {},
   "outputs": [
    {
     "name": "stdout",
     "output_type": "stream",
     "text": [
      "longueur_pixels: 3900.0\n",
      "rangee_pixels: 2700.0\n"
     ]
    }
   ],
   "source": [
    "longueur_mm = 4*carreau_mm + 3*espace_mm\n",
    "longueur_pixels = (longueur_mm / detail_mm) * 2\n",
    "print(\"longueur_pixels:\",longueur_pixels)\n",
    "print(\"rangee_pixels:\", rangee_pixels)"
   ]
  },
  {
   "cell_type": "code",
   "execution_count": 41,
   "metadata": {},
   "outputs": [
    {
     "name": "stdout",
     "output_type": "stream",
     "text": [
      "image_time: 0.10263157894736842\n",
      "fps: 9.743589743589743\n"
     ]
    }
   ],
   "source": [
    "#v = d/t  => t = d / v\n",
    "image_time_s = longueur_mm / tapis_mms\n",
    "print(\"image_time:\", image_time_s)\n",
    "print(\"fps:\",  1.0/image_time_s)"
   ]
  },
  {
   "cell_type": "markdown",
   "metadata": {},
   "source": [
    "**Question 8** Temps entre deux images"
   ]
  },
  {
   "cell_type": "code",
   "execution_count": 42,
   "metadata": {},
   "outputs": [
    {
     "name": "stdout",
     "output_type": "stream",
     "text": [
      "ti_time: 0.10526315789473684\n"
     ]
    }
   ],
   "source": [
    "dist_entre_2 = longueur_mm + espace_mm\n",
    "ti_time = dist_entre_2 / tapis_mms\n",
    "print(\"ti_time:\", ti_time)\n"
   ]
  },
  {
   "cell_type": "markdown",
   "metadata": {},
   "source": [
    "**question 9**"
   ]
  },
  {
   "cell_type": "code",
   "execution_count": 46,
   "metadata": {},
   "outputs": [
    {
     "name": "stdout",
     "output_type": "stream",
     "text": [
      "grandissement: 0.04499999999999999\n",
      "dist for 8 : 185.7777777777778\n",
      "dist for 10 : 232.22222222222226\n",
      "dist for 12 : 278.6666666666667\n"
     ]
    }
   ],
   "source": [
    "grandissement = (4.5/1000) * longueur_pixels / longueur_mm\n",
    "print(\"grandissement:\", grandissement)\n",
    "for focale in [8, 10, 12]:\n",
    "    dist = distance_de_travail(focale, grandissement)\n",
    "    print(\"dist for\", focale, \":\", dist)"
   ]
  },
  {
   "cell_type": "code",
   "execution_count": 44,
   "metadata": {},
   "outputs": [],
   "source": [
    "def compute_focale(oa, grandissement):\n",
    "    oa/(1/grandissement + 1)"
   ]
  }
 ],
 "metadata": {
  "kernelspec": {
   "display_name": "base",
   "language": "python",
   "name": "python3"
  },
  "language_info": {
   "codemirror_mode": {
    "name": "ipython",
    "version": 3
   },
   "file_extension": ".py",
   "mimetype": "text/x-python",
   "name": "python",
   "nbconvert_exporter": "python",
   "pygments_lexer": "ipython3",
   "version": "3.11.4"
  }
 },
 "nbformat": 4,
 "nbformat_minor": 2
}
